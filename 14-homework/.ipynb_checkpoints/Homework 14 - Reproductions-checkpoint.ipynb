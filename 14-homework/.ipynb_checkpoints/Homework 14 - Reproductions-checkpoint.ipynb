{
 "cells": [
  {
   "cell_type": "markdown",
   "metadata": {},
   "source": [
    "# Pandas and Illustrator\n",
    "\n",
    "**Do these in whatever order you'd like.** Feel free to do a bar graph, then skip ahead to some Buzzfeed line graphs, etc. Start in pandas, then once you save move on over to Illustrator.\n",
    "\n",
    "Do each group - NYT, Buzzfeed, FiveThirtyEight, Economist, Guardian - in a different notebook.  I'm only leaving spaces in these here so you can scroll through them more easily.\n",
    "\n",
    "Be sure to check out the other notebook for **tips and hints**."
   ]
  },
  {
   "cell_type": "code",
   "execution_count": 3,
   "metadata": {},
   "outputs": [],
   "source": [
    "import pandas as pd\n",
    "import matplotlib\n",
    "import matplotlib.pyplot as plt\n",
    "import seaborn as sns\n",
    "matplotlib.rcParams['pdf.fonttype'] = 42 #makes text editable in illustrator\n",
    "\n",
    "%matplotlib inline"
   ]
  },
  {
   "cell_type": "code",
   "execution_count": null,
   "metadata": {},
   "outputs": [],
   "source": []
  },
  {
   "cell_type": "code",
   "execution_count": null,
   "metadata": {},
   "outputs": [],
   "source": []
  },
  {
   "cell_type": "code",
   "execution_count": null,
   "metadata": {},
   "outputs": [],
   "source": []
  },
  {
   "cell_type": "markdown",
   "metadata": {
    "collapsed": true
   },
   "source": [
    "# NYT: Bar graphs\n",
    "\n",
    "Recreate the bar charts from [this piece](https://www.nytimes.com/2017/12/20/upshot/democrats-2018-congressional-elections-polling.html) and [this piece](https://www.nytimes.com/2017/12/27/business/the-robots-are-coming-and-sweden-is-fine.html) and [this piece](https://www.nytimes.com/2017/09/29/upshot/dont-forget-the-republicans-incumbency-advantage-in-2018.html).\n",
    "\n",
    "![](images/sample-nyt.png)\n",
    "\n",
    "**Data:** \n",
    "   \n",
    "* `generic_poll_lead.csv`\n",
    "* `social-spending.csv`\n",
    "* `cook_pvi.csv`"
   ]
  },
  {
   "cell_type": "code",
   "execution_count": 149,
   "metadata": {},
   "outputs": [],
   "source": [
    "generic = pd.read_csv(\"data/generic_poll_lead.csv\")\n",
    "social = pd.read_csv(\"data/social-spending.csv\")\n",
    "cook = pd.read_csv(\"data/cook_pvi.csv\")"
   ]
  },
  {
   "cell_type": "markdown",
   "metadata": {},
   "source": [
    "## Robot Chart"
   ]
  },
  {
   "cell_type": "code",
   "execution_count": 150,
   "metadata": {},
   "outputs": [],
   "source": [
    "social[\"Both\"] = social['Country'] + \" \" + social['Social Spending']"
   ]
  },
  {
   "cell_type": "code",
   "execution_count": 151,
   "metadata": {},
   "outputs": [
    {
     "data": {
      "text/html": [
       "<div>\n",
       "<style scoped>\n",
       "    .dataframe tbody tr th:only-of-type {\n",
       "        vertical-align: middle;\n",
       "    }\n",
       "\n",
       "    .dataframe tbody tr th {\n",
       "        vertical-align: top;\n",
       "    }\n",
       "\n",
       "    .dataframe thead th {\n",
       "        text-align: right;\n",
       "    }\n",
       "</style>\n",
       "<table border=\"1\" class=\"dataframe\">\n",
       "  <thead>\n",
       "    <tr style=\"text-align: right;\">\n",
       "      <th></th>\n",
       "      <th>Country</th>\n",
       "      <th>Social Spending</th>\n",
       "      <th>Both</th>\n",
       "    </tr>\n",
       "  </thead>\n",
       "  <tbody>\n",
       "    <tr>\n",
       "      <th>0</th>\n",
       "      <td>France</td>\n",
       "      <td>31.5%</td>\n",
       "      <td>France 31.5%</td>\n",
       "    </tr>\n",
       "    <tr>\n",
       "      <th>1</th>\n",
       "      <td>Finland</td>\n",
       "      <td>30.8%</td>\n",
       "      <td>Finland 30.8%</td>\n",
       "    </tr>\n",
       "    <tr>\n",
       "      <th>2</th>\n",
       "      <td>Belgium</td>\n",
       "      <td>29.0%</td>\n",
       "      <td>Belgium 29.0%</td>\n",
       "    </tr>\n",
       "    <tr>\n",
       "      <th>3</th>\n",
       "      <td>Italy</td>\n",
       "      <td>28.9%</td>\n",
       "      <td>Italy 28.9%</td>\n",
       "    </tr>\n",
       "    <tr>\n",
       "      <th>4</th>\n",
       "      <td>Denmark</td>\n",
       "      <td>28.7%</td>\n",
       "      <td>Denmark 28.7%</td>\n",
       "    </tr>\n",
       "  </tbody>\n",
       "</table>\n",
       "</div>"
      ],
      "text/plain": [
       "   Country Social Spending           Both\n",
       "0   France           31.5%   France 31.5%\n",
       "1  Finland           30.8%  Finland 30.8%\n",
       "2  Belgium           29.0%  Belgium 29.0%\n",
       "3    Italy           28.9%    Italy 28.9%\n",
       "4  Denmark           28.7%  Denmark 28.7%"
      ]
     },
     "execution_count": 151,
     "metadata": {},
     "output_type": "execute_result"
    }
   ],
   "source": [
    "social.head()"
   ]
  },
  {
   "cell_type": "code",
   "execution_count": 152,
   "metadata": {},
   "outputs": [],
   "source": [
    "social['Social Spending'] = social['Social Spending'].str.replace('%', '', regex = True)"
   ]
  },
  {
   "cell_type": "code",
   "execution_count": 153,
   "metadata": {},
   "outputs": [
    {
     "data": {
      "text/plain": [
       "Country             object\n",
       "Social Spending    float64\n",
       "Both                object\n",
       "dtype: object"
      ]
     },
     "execution_count": 153,
     "metadata": {},
     "output_type": "execute_result"
    }
   ],
   "source": [
    "social['Social Spending'] = social['Social Spending'].astype(float)\n",
    "social.dtypes"
   ]
  },
  {
   "cell_type": "code",
   "execution_count": 156,
   "metadata": {},
   "outputs": [
    {
     "data": {
      "image/png": "[encoded data removed]",
      "text/plain": [
       "<Figure size 432x1440 with 1 Axes>"
      ]
     },
     "metadata": {
      "needs_background": "light"
     },
     "output_type": "display_data"
    }
   ],
   "source": [
    "social.sort_values(by='Social Spending').plot(x='Both', \n",
    "                                              y='Social Spending', \n",
    "                                              kind='barh', \n",
    "                                              figsize=(6, 20),\n",
    "                                              title=\"Public social spending as a share of G.D.P.\",\n",
    "                                             color=\"#cfdbeb\")\n",
    "plt.tight_layout()\n",
    "plt.savefig(\"social.pdf\")"
   ]
  },
  {
   "cell_type": "markdown",
   "metadata": {},
   "source": [
    "## Retirement Chart"
   ]
  },
  {
   "cell_type": "code",
   "execution_count": 158,
   "metadata": {},
   "outputs": [],
   "source": [
    "cook['win'] = 100 - cook.pct_defeated"
   ]
  },
  {
   "cell_type": "code",
   "execution_count": 159,
   "metadata": {
    "scrolled": true
   },
   "outputs": [
    {
     "data": {
      "text/html": [
       "<div>\n",
       "<style scoped>\n",
       "    .dataframe tbody tr th:only-of-type {\n",
       "        vertical-align: middle;\n",
       "    }\n",
       "\n",
       "    .dataframe tbody tr th {\n",
       "        vertical-align: top;\n",
       "    }\n",
       "\n",
       "    .dataframe thead th {\n",
       "        text-align: right;\n",
       "    }\n",
       "</style>\n",
       "<table border=\"1\" class=\"dataframe\">\n",
       "  <thead>\n",
       "    <tr style=\"text-align: right;\">\n",
       "      <th></th>\n",
       "      <th>cook_pvi</th>\n",
       "      <th>pct_defeated</th>\n",
       "      <th>win</th>\n",
       "    </tr>\n",
       "  </thead>\n",
       "  <tbody>\n",
       "    <tr>\n",
       "      <th>0</th>\n",
       "      <td>C+7 or greater</td>\n",
       "      <td>76</td>\n",
       "      <td>24</td>\n",
       "    </tr>\n",
       "    <tr>\n",
       "      <th>1</th>\n",
       "      <td>C+3 to C+7</td>\n",
       "      <td>63</td>\n",
       "      <td>37</td>\n",
       "    </tr>\n",
       "    <tr>\n",
       "      <th>2</th>\n",
       "      <td>C+1 to C+3</td>\n",
       "      <td>61</td>\n",
       "      <td>39</td>\n",
       "    </tr>\n",
       "    <tr>\n",
       "      <th>3</th>\n",
       "      <td>I+1 to C+1</td>\n",
       "      <td>35</td>\n",
       "      <td>65</td>\n",
       "    </tr>\n",
       "    <tr>\n",
       "      <th>4</th>\n",
       "      <td>I+1 to I+3</td>\n",
       "      <td>25</td>\n",
       "      <td>75</td>\n",
       "    </tr>\n",
       "    <tr>\n",
       "      <th>5</th>\n",
       "      <td>I+3 to I+5</td>\n",
       "      <td>18</td>\n",
       "      <td>82</td>\n",
       "    </tr>\n",
       "    <tr>\n",
       "      <th>6</th>\n",
       "      <td>I+5 to I+10</td>\n",
       "      <td>7</td>\n",
       "      <td>93</td>\n",
       "    </tr>\n",
       "    <tr>\n",
       "      <th>7</th>\n",
       "      <td>I+10 or greater</td>\n",
       "      <td>0</td>\n",
       "      <td>100</td>\n",
       "    </tr>\n",
       "  </tbody>\n",
       "</table>\n",
       "</div>"
      ],
      "text/plain": [
       "          cook_pvi  pct_defeated  win\n",
       "0   C+7 or greater            76   24\n",
       "1       C+3 to C+7            63   37\n",
       "2       C+1 to C+3            61   39\n",
       "3       I+1 to C+1            35   65\n",
       "4       I+1 to I+3            25   75\n",
       "5       I+3 to I+5            18   82\n",
       "6      I+5 to I+10             7   93\n",
       "7  I+10 or greater             0  100"
      ]
     },
     "execution_count": 159,
     "metadata": {},
     "output_type": "execute_result"
    }
   ],
   "source": [
    "cook"
   ]
  },
  {
   "cell_type": "code",
   "execution_count": 160,
   "metadata": {},
   "outputs": [
    {
     "data": {
      "image/png": "[encoded data removed]",
      "text/plain": [
       "<Figure size 720x360 with 1 Axes>"
      ]
     },
     "metadata": {
      "needs_background": "light"
     },
     "output_type": "display_data"
    }
   ],
   "source": [
    "colors = [\"#812f53\", \"#b87c93\"]\n",
    "\n",
    "cook.sort_values(by='pct_defeated').plot(x='cook_pvi', y=['pct_defeated','win'], kind='barh', stacked=True, figsize=(10, 5), width=0.8,\n",
    "       title=\"Incumbents Are Tough to Beat, Even in a Wave\", color=colors)\n",
    "\n",
    "plt.tight_layout()\n",
    "plt.savefig(\"cook.pdf\")"
   ]
  },
  {
   "cell_type": "markdown",
   "metadata": {},
   "source": [
    "## Democrats Chart"
   ]
  },
  {
   "cell_type": "code",
   "execution_count": 161,
   "metadata": {},
   "outputs": [
    {
     "data": {
      "text/html": [
       "<div>\n",
       "<style scoped>\n",
       "    .dataframe tbody tr th:only-of-type {\n",
       "        vertical-align: middle;\n",
       "    }\n",
       "\n",
       "    .dataframe tbody tr th {\n",
       "        vertical-align: top;\n",
       "    }\n",
       "\n",
       "    .dataframe thead th {\n",
       "        text-align: right;\n",
       "    }\n",
       "</style>\n",
       "<table border=\"1\" class=\"dataframe\">\n",
       "  <thead>\n",
       "    <tr style=\"text-align: right;\">\n",
       "      <th></th>\n",
       "      <th>year</th>\n",
       "      <th>lead</th>\n",
       "      <th>in_power</th>\n",
       "    </tr>\n",
       "  </thead>\n",
       "  <tbody>\n",
       "    <tr>\n",
       "      <th>0</th>\n",
       "      <td>2018</td>\n",
       "      <td>13.4</td>\n",
       "      <td>no</td>\n",
       "    </tr>\n",
       "    <tr>\n",
       "      <th>1</th>\n",
       "      <td>2016</td>\n",
       "      <td>1.2</td>\n",
       "      <td>yes</td>\n",
       "    </tr>\n",
       "    <tr>\n",
       "      <th>2</th>\n",
       "      <td>2014</td>\n",
       "      <td>3.0</td>\n",
       "      <td>yes</td>\n",
       "    </tr>\n",
       "    <tr>\n",
       "      <th>3</th>\n",
       "      <td>2012</td>\n",
       "      <td>1.5</td>\n",
       "      <td>no</td>\n",
       "    </tr>\n",
       "    <tr>\n",
       "      <th>4</th>\n",
       "      <td>2010</td>\n",
       "      <td>0.4</td>\n",
       "      <td>no</td>\n",
       "    </tr>\n",
       "  </tbody>\n",
       "</table>\n",
       "</div>"
      ],
      "text/plain": [
       "   year  lead in_power\n",
       "0  2018  13.4       no\n",
       "1  2016   1.2      yes\n",
       "2  2014   3.0      yes\n",
       "3  2012   1.5       no\n",
       "4  2010   0.4       no"
      ]
     },
     "execution_count": 161,
     "metadata": {},
     "output_type": "execute_result"
    }
   ],
   "source": [
    "generic.head()"
   ]
  },
  {
   "cell_type": "code",
   "execution_count": 179,
   "metadata": {},
   "outputs": [
    {
     "name": "stderr",
     "output_type": "stream",
     "text": [
      "/Library/Frameworks/Python.framework/Versions/3.6/lib/python3.6/site-packages/ipykernel_launcher.py:17: MatplotlibDeprecationWarning: Adding an axes using the same arguments as a previous axes currently reuses the earlier instance.  In a future version, a new instance will always be created and returned.  Meanwhile, this warning can be suppressed, and the future behavior ensured, by passing a unique label to each axes instance.\n"
     ]
    },
    {
     "data": {
      "image/png": "[encoded data removed]",
      "text/plain": [
       "<Figure size 720x504 with 1 Axes>"
      ]
     },
     "metadata": {
      "needs_background": "light"
     },
     "output_type": "display_data"
    }
   ],
   "source": [
    "colors = []\n",
    "for power in generic.in_power:\n",
    "    if power == \"no\":\n",
    "        colors.append(\"#fdc130\")\n",
    "    elif power == \"yes\":\n",
    "        colors.append(\"#cac7c3\")\n",
    "colors.reverse()\n",
    "\n",
    "ax = generic.sort_values(by='year').plot(x='year', y='lead', kind='barh', figsize=(10, 7), width=0.8,\n",
    "       title=\"2018 Doesn’t Look Quite Like Other Election Cycles\", color=colors)\n",
    "\n",
    "for axis in ax.spines:\n",
    "    ax.spines[axis].set_visible(False)\n",
    "#plt.axis('off')\n",
    "#ax.set_xlabel('off')\n",
    "\n",
    "ax1 = plt.axes()\n",
    "x_axis = ax1.axes.get_xaxis()\n",
    "x_axis.set_visible(False)\n",
    "\n",
    "plt.tight_layout()\n",
    "plt.savefig(\"generic.pdf\")"
   ]
  },
  {
   "cell_type": "code",
   "execution_count": null,
   "metadata": {},
   "outputs": [],
   "source": []
  },
  {
   "cell_type": "markdown",
   "metadata": {},
   "source": [
    "# Buzzfeed: Diversity in the Agriculture Department\n",
    "\n",
    "You are going to recreate the two line-graph visualizations in [this piece](https://www.buzzfeed.com/jsvine/agriculture-department-political-appointee-diversity) by the super-famous [Jeremy Singer-Vine](https://twitter.com/jsvine). If he can do it, you can too!\n",
    "\n",
    "![](images/buzzfeed.png)\n",
    "\n",
    "**I've included the 100% beautiful, cleaned up data:** `gender-by-quarter.csv` and `diversity-by-quarter.csv`.\n",
    "\n",
    "Since there isn't much cleaning to do, this work is mostly going to be about **how to move between pandas/matplotlib and finish things up in Illustrator.**\n"
   ]
  },
  {
   "cell_type": "code",
   "execution_count": 163,
   "metadata": {},
   "outputs": [],
   "source": [
    "racial = pd.read_csv(\"data/diversity-by-quarter.csv\")\n",
    "gender = pd.read_csv(\"data/gender-by-quarter.csv\")"
   ]
  },
  {
   "cell_type": "code",
   "execution_count": 164,
   "metadata": {},
   "outputs": [],
   "source": [
    "import re\n",
    "racial['quarter'] = racial['quarter'].str.replace('(-.*)', '', regex = True)"
   ]
  },
  {
   "cell_type": "code",
   "execution_count": 165,
   "metadata": {},
   "outputs": [
    {
     "data": {
      "text/html": [
       "<div>\n",
       "<style scoped>\n",
       "    .dataframe tbody tr th:only-of-type {\n",
       "        vertical-align: middle;\n",
       "    }\n",
       "\n",
       "    .dataframe tbody tr th {\n",
       "        vertical-align: top;\n",
       "    }\n",
       "\n",
       "    .dataframe thead th {\n",
       "        text-align: right;\n",
       "    }\n",
       "</style>\n",
       "<table border=\"1\" class=\"dataframe\">\n",
       "  <thead>\n",
       "    <tr style=\"text-align: right;\">\n",
       "      <th></th>\n",
       "      <th>quarter</th>\n",
       "      <th>toa_group</th>\n",
       "      <th>count_all</th>\n",
       "      <th>count_minority</th>\n",
       "      <th>pct_minority</th>\n",
       "    </tr>\n",
       "  </thead>\n",
       "  <tbody>\n",
       "    <tr>\n",
       "      <th>0</th>\n",
       "      <td>2006</td>\n",
       "      <td>all-permanent</td>\n",
       "      <td>1608157</td>\n",
       "      <td>521323</td>\n",
       "      <td>32.417419</td>\n",
       "    </tr>\n",
       "    <tr>\n",
       "      <th>1</th>\n",
       "      <td>2006</td>\n",
       "      <td>midlevel-appointees</td>\n",
       "      <td>2246</td>\n",
       "      <td>268</td>\n",
       "      <td>11.932324</td>\n",
       "    </tr>\n",
       "    <tr>\n",
       "      <th>2</th>\n",
       "      <td>2007</td>\n",
       "      <td>all-permanent</td>\n",
       "      <td>1618159</td>\n",
       "      <td>532756</td>\n",
       "      <td>32.923588</td>\n",
       "    </tr>\n",
       "    <tr>\n",
       "      <th>3</th>\n",
       "      <td>2007</td>\n",
       "      <td>midlevel-appointees</td>\n",
       "      <td>2315</td>\n",
       "      <td>259</td>\n",
       "      <td>11.187905</td>\n",
       "    </tr>\n",
       "    <tr>\n",
       "      <th>4</th>\n",
       "      <td>2008</td>\n",
       "      <td>all-permanent</td>\n",
       "      <td>1673249</td>\n",
       "      <td>560098</td>\n",
       "      <td>33.473679</td>\n",
       "    </tr>\n",
       "  </tbody>\n",
       "</table>\n",
       "</div>"
      ],
      "text/plain": [
       "  quarter            toa_group  count_all  count_minority  pct_minority\n",
       "0    2006        all-permanent    1608157          521323     32.417419\n",
       "1    2006  midlevel-appointees       2246             268     11.932324\n",
       "2    2007        all-permanent    1618159          532756     32.923588\n",
       "3    2007  midlevel-appointees       2315             259     11.187905\n",
       "4    2008        all-permanent    1673249          560098     33.473679"
      ]
     },
     "execution_count": 165,
     "metadata": {},
     "output_type": "execute_result"
    }
   ],
   "source": [
    "racial.head()"
   ]
  },
  {
   "cell_type": "code",
   "execution_count": 177,
   "metadata": {},
   "outputs": [
    {
     "data": {
      "image/png": "[encoded data removed]",
      "text/plain": [
       "<Figure size 720x360 with 1 Axes>"
      ]
     },
     "metadata": {
      "needs_background": "light"
     },
     "output_type": "display_data"
    }
   ],
   "source": [
    "colors = [\"red\"]\n",
    "fig, ax = plt.subplots()\n",
    "plt.ylim([0, 50])\n",
    "\n",
    "racial.groupby('toa_group').plot(ax=ax, x='quarter', y='pct_minority', marker='o',\n",
    "                                 markerfacecolor='white', markersize=8, linewidth=3,\n",
    "                                 title=\"% of Fed. Employees Identifying as Racial/Ethnic Minority\", \n",
    "                                 color=colors, figsize=(10, 5))\n",
    "ax.yaxis.grid(linestyle='--')\n",
    "\n",
    "plt.tight_layout()\n",
    "plt.savefig(\"racial.pdf\")"
   ]
  },
  {
   "cell_type": "code",
   "execution_count": 167,
   "metadata": {},
   "outputs": [
    {
     "data": {
      "text/html": [
       "<div>\n",
       "<style scoped>\n",
       "    .dataframe tbody tr th:only-of-type {\n",
       "        vertical-align: middle;\n",
       "    }\n",
       "\n",
       "    .dataframe tbody tr th {\n",
       "        vertical-align: top;\n",
       "    }\n",
       "\n",
       "    .dataframe thead th {\n",
       "        text-align: right;\n",
       "    }\n",
       "</style>\n",
       "<table border=\"1\" class=\"dataframe\">\n",
       "  <thead>\n",
       "    <tr style=\"text-align: right;\">\n",
       "      <th></th>\n",
       "      <th>quarter</th>\n",
       "      <th>toa_group</th>\n",
       "      <th>count_all</th>\n",
       "      <th>count_female</th>\n",
       "      <th>pct_female</th>\n",
       "    </tr>\n",
       "  </thead>\n",
       "  <tbody>\n",
       "    <tr>\n",
       "      <th>0</th>\n",
       "      <td>1998</td>\n",
       "      <td>all-permanent</td>\n",
       "      <td>1556531</td>\n",
       "      <td>667289</td>\n",
       "      <td>42.870267</td>\n",
       "    </tr>\n",
       "    <tr>\n",
       "      <th>1</th>\n",
       "      <td>1998</td>\n",
       "      <td>midlevel-appointees</td>\n",
       "      <td>1999</td>\n",
       "      <td>1009</td>\n",
       "      <td>50.475238</td>\n",
       "    </tr>\n",
       "    <tr>\n",
       "      <th>2</th>\n",
       "      <td>1999</td>\n",
       "      <td>all-permanent</td>\n",
       "      <td>1536156</td>\n",
       "      <td>660663</td>\n",
       "      <td>43.007546</td>\n",
       "    </tr>\n",
       "    <tr>\n",
       "      <th>3</th>\n",
       "      <td>1999</td>\n",
       "      <td>midlevel-appointees</td>\n",
       "      <td>2025</td>\n",
       "      <td>1018</td>\n",
       "      <td>50.271605</td>\n",
       "    </tr>\n",
       "    <tr>\n",
       "      <th>4</th>\n",
       "      <td>2000</td>\n",
       "      <td>all-permanent</td>\n",
       "      <td>1524883</td>\n",
       "      <td>658788</td>\n",
       "      <td>43.202528</td>\n",
       "    </tr>\n",
       "  </tbody>\n",
       "</table>\n",
       "</div>"
      ],
      "text/plain": [
       "  quarter            toa_group  count_all  count_female  pct_female\n",
       "0    1998        all-permanent    1556531        667289   42.870267\n",
       "1    1998  midlevel-appointees       1999          1009   50.475238\n",
       "2    1999        all-permanent    1536156        660663   43.007546\n",
       "3    1999  midlevel-appointees       2025          1018   50.271605\n",
       "4    2000        all-permanent    1524883        658788   43.202528"
      ]
     },
     "execution_count": 167,
     "metadata": {},
     "output_type": "execute_result"
    }
   ],
   "source": [
    "gender['quarter'] = gender['quarter'].str.replace('(-.*)', '', regex = True)\n",
    "gender.head()"
   ]
  },
  {
   "cell_type": "code",
   "execution_count": 180,
   "metadata": {},
   "outputs": [
    {
     "data": {
      "image/png": "[encoded data removed]",
      "text/plain": [
       "<Figure size 720x360 with 1 Axes>"
      ]
     },
     "metadata": {
      "needs_background": "light"
     },
     "output_type": "display_data"
    }
   ],
   "source": [
    "colors = [\"red\"]\n",
    "fig, ax = plt.subplots()\n",
    "plt.ylim([0, 60])\n",
    "gender.groupby('toa_group').plot(ax=ax, x='quarter', y='pct_female', marker='o',\n",
    "                                 markerfacecolor='white', markersize=8, linewidth=3,\n",
    "                                 title=\"% of Federal Employees Identifying as Female\",\n",
    "                                 color=colors, figsize=(10, 5))\n",
    "ax.yaxis.grid(linestyle='--')\n",
    "plt.tight_layout()\n",
    "plt.savefig(\"gender.pdf\")"
   ]
  },
  {
   "cell_type": "markdown",
   "metadata": {},
   "source": [
    "# FiveThirtyEight: What makes Nigel Richards the best at Scrabble?\n",
    "\n",
    "You are going to recreate the visualizations in [this piece](https://fivethirtyeight.com/features/what-makes-nigel-richards-the-best-scrabble-player-on-earth/) by [Oliver Roeder](https://twitter.com/ollie). This is one of my favorite series of charts in all of history! \n",
    "\n",
    "(When you break them down by divisions, though, don't draw the circles.)\n",
    "\n",
    "![](images/sample-538.png)\n",
    "\n",
    "**I've included the data, but there's a little work to be done:** \n",
    "\n",
    "* `scrabble-point-spread.csv` - the points for and against each player at Nationals from one year (2013)\n",
    "* `scrabble-tournament.csv` - rating and division data for each player at Nationals from one year (2013)\n",
    "* `ranked-players-with-scores.csv` - the top 200 ranked players and their average points per game (2018)\n",
    "\n",
    "Note that the ranking data is from 2018 so the graph that uses it will look a bit different.\n"
   ]
  },
  {
   "cell_type": "code",
   "execution_count": 62,
   "metadata": {},
   "outputs": [],
   "source": [
    "scrabble = pd.read_csv(\"data/scrabble-point-spread.csv\")\n",
    "tournament = pd.read_csv(\"data/scrabble-tournament.csv\")\n",
    "ranked = pd.read_csv(\"data/ranked-players-with-scores.csv\")"
   ]
  },
  {
   "cell_type": "code",
   "execution_count": 63,
   "metadata": {},
   "outputs": [],
   "source": [
    "#points for\n",
    "ranked['points_for'] = ranked['points_for_against'].str.replace('(-.*)', '', regex = True).astype(int)\n",
    "\n",
    "#points against\n",
    "ranked['points_against'] = ranked['points_for_against'].str.replace('(.*)-', '', regex = True).astype(int)"
   ]
  },
  {
   "cell_type": "code",
   "execution_count": 147,
   "metadata": {},
   "outputs": [
    {
     "data": {
      "text/html": [
       "<div>\n",
       "<style scoped>\n",
       "    .dataframe tbody tr th:only-of-type {\n",
       "        vertical-align: middle;\n",
       "    }\n",
       "\n",
       "    .dataframe tbody tr th {\n",
       "        vertical-align: top;\n",
       "    }\n",
       "\n",
       "    .dataframe thead th {\n",
       "        text-align: right;\n",
       "    }\n",
       "</style>\n",
       "<table border=\"1\" class=\"dataframe\">\n",
       "  <thead>\n",
       "    <tr style=\"text-align: right;\">\n",
       "      <th></th>\n",
       "      <th>current_rank</th>\n",
       "      <th>current_rating</th>\n",
       "      <th>games</th>\n",
       "      <th>losses</th>\n",
       "      <th>name</th>\n",
       "      <th>peak_rating</th>\n",
       "      <th>player_id</th>\n",
       "      <th>ties</th>\n",
       "      <th>total_prize_money</th>\n",
       "      <th>wins</th>\n",
       "      <th>points_for_against</th>\n",
       "      <th>points_for</th>\n",
       "      <th>points_against</th>\n",
       "    </tr>\n",
       "  </thead>\n",
       "  <tbody>\n",
       "    <tr>\n",
       "      <th>0</th>\n",
       "      <td>1</td>\n",
       "      <td>2190</td>\n",
       "      <td>1,765</td>\n",
       "      <td>426</td>\n",
       "      <td>David Gibson</td>\n",
       "      <td>2190</td>\n",
       "      <td>1384</td>\n",
       "      <td>5</td>\n",
       "      <td>$174,982</td>\n",
       "      <td>1,325</td>\n",
       "      <td>433-370</td>\n",
       "      <td>433</td>\n",
       "      <td>370</td>\n",
       "    </tr>\n",
       "    <tr>\n",
       "      <th>1</th>\n",
       "      <td>2</td>\n",
       "      <td>2148</td>\n",
       "      <td>1,070</td>\n",
       "      <td>386</td>\n",
       "      <td>Will Anderson</td>\n",
       "      <td>2148</td>\n",
       "      <td>19535</td>\n",
       "      <td>4</td>\n",
       "      <td>$17,885</td>\n",
       "      <td>680</td>\n",
       "      <td>427-394</td>\n",
       "      <td>427</td>\n",
       "      <td>394</td>\n",
       "    </tr>\n",
       "    <tr>\n",
       "      <th>2</th>\n",
       "      <td>3</td>\n",
       "      <td>2130</td>\n",
       "      <td>1,811</td>\n",
       "      <td>474</td>\n",
       "      <td>Nigel Richards</td>\n",
       "      <td>2307</td>\n",
       "      <td>6003</td>\n",
       "      <td>7</td>\n",
       "      <td>$219,401</td>\n",
       "      <td>1,330</td>\n",
       "      <td>447-392</td>\n",
       "      <td>447</td>\n",
       "      <td>392</td>\n",
       "    </tr>\n",
       "    <tr>\n",
       "      <th>3</th>\n",
       "      <td>4</td>\n",
       "      <td>2092</td>\n",
       "      <td>744</td>\n",
       "      <td>241</td>\n",
       "      <td>Mack Meller</td>\n",
       "      <td>2092</td>\n",
       "      <td>20383</td>\n",
       "      <td>7</td>\n",
       "      <td>$7,375</td>\n",
       "      <td>496</td>\n",
       "      <td>434-388</td>\n",
       "      <td>434</td>\n",
       "      <td>388</td>\n",
       "    </tr>\n",
       "    <tr>\n",
       "      <th>4</th>\n",
       "      <td>5</td>\n",
       "      <td>2081</td>\n",
       "      <td>3,119</td>\n",
       "      <td>1,040</td>\n",
       "      <td>Ian Weinstein</td>\n",
       "      <td>2081</td>\n",
       "      <td>1847</td>\n",
       "      <td>17</td>\n",
       "      <td>$34,858</td>\n",
       "      <td>2,062</td>\n",
       "      <td>425-382</td>\n",
       "      <td>425</td>\n",
       "      <td>382</td>\n",
       "    </tr>\n",
       "  </tbody>\n",
       "</table>\n",
       "</div>"
      ],
      "text/plain": [
       "   current_rank  current_rating  games losses             name  peak_rating  \\\n",
       "0             1            2190  1,765    426     David Gibson         2190   \n",
       "1             2            2148  1,070    386    Will Anderson         2148   \n",
       "2             3            2130  1,811    474   Nigel Richards         2307   \n",
       "3             4            2092    744    241      Mack Meller         2092   \n",
       "4             5            2081  3,119  1,040    Ian Weinstein         2081   \n",
       "\n",
       "   player_id  ties total_prize_money   wins points_for_against  points_for  \\\n",
       "0       1384     5          $174,982  1,325            433-370         433   \n",
       "1      19535     4           $17,885    680            427-394         427   \n",
       "2       6003     7          $219,401  1,330            447-392         447   \n",
       "3      20383     7            $7,375    496            434-388         434   \n",
       "4       1847    17           $34,858  2,062            425-382         425   \n",
       "\n",
       "   points_against  \n",
       "0             370  \n",
       "1             394  \n",
       "2             392  \n",
       "3             388  \n",
       "4             382  "
      ]
     },
     "execution_count": 147,
     "metadata": {},
     "output_type": "execute_result"
    }
   ],
   "source": [
    "ranked.head()"
   ]
  },
  {
   "cell_type": "code",
   "execution_count": 181,
   "metadata": {},
   "outputs": [
    {
     "data": {
      "image/png": "[encoded data removed]",
      "text/plain": [
       "<Figure size 432x288 with 1 Axes>"
      ]
     },
     "metadata": {
      "needs_background": "light"
     },
     "output_type": "display_data"
    }
   ],
   "source": [
    "#Chart 2\n",
    "fig, ax = plt.subplots()\n",
    "plt.ylim([355, 425])\n",
    "plt.xlim([375, 445])\n",
    "ax = ranked.head(50).plot(ax=ax, x='points_for', y='points_against', kind='scatter', color=\"#767777\",\n",
    "                          title=\"Lifetime avergae scores of the current top 50 Scrabble players\",)\n",
    "ax.grid()\n",
    "\n",
    "for axis in ax.spines:\n",
    "    ax.spines[axis].set_visible(False)\n",
    "    \n",
    "ax.set_facecolor('#F0F0F0')\n",
    "\n",
    "plt.tight_layout()\n",
    "plt.savefig(\"ranked.pdf\")"
   ]
  },
  {
   "cell_type": "code",
   "execution_count": 103,
   "metadata": {},
   "outputs": [
    {
     "data": {
      "text/html": [
       "<div>\n",
       "<style scoped>\n",
       "    .dataframe tbody tr th:only-of-type {\n",
       "        vertical-align: middle;\n",
       "    }\n",
       "\n",
       "    .dataframe tbody tr th {\n",
       "        vertical-align: top;\n",
       "    }\n",
       "\n",
       "    .dataframe thead th {\n",
       "        text-align: right;\n",
       "    }\n",
       "</style>\n",
       "<table border=\"1\" class=\"dataframe\">\n",
       "  <thead>\n",
       "    <tr style=\"text-align: right;\">\n",
       "      <th></th>\n",
       "      <th>Player ID</th>\n",
       "      <th>points_against</th>\n",
       "      <th>points_for</th>\n",
       "      <th>tournament_id</th>\n",
       "    </tr>\n",
       "  </thead>\n",
       "  <tbody>\n",
       "    <tr>\n",
       "      <th>0</th>\n",
       "      <td>6003</td>\n",
       "      <td>381</td>\n",
       "      <td>443</td>\n",
       "      <td>8163</td>\n",
       "    </tr>\n",
       "    <tr>\n",
       "      <th>1</th>\n",
       "      <td>20749</td>\n",
       "      <td>375</td>\n",
       "      <td>435</td>\n",
       "      <td>8163</td>\n",
       "    </tr>\n",
       "    <tr>\n",
       "      <th>2</th>\n",
       "      <td>19535</td>\n",
       "      <td>391</td>\n",
       "      <td>443</td>\n",
       "      <td>8163</td>\n",
       "    </tr>\n",
       "    <tr>\n",
       "      <th>3</th>\n",
       "      <td>18474</td>\n",
       "      <td>386</td>\n",
       "      <td>439</td>\n",
       "      <td>8163</td>\n",
       "    </tr>\n",
       "    <tr>\n",
       "      <th>4</th>\n",
       "      <td>583</td>\n",
       "      <td>396</td>\n",
       "      <td>450</td>\n",
       "      <td>8163</td>\n",
       "    </tr>\n",
       "  </tbody>\n",
       "</table>\n",
       "</div>"
      ],
      "text/plain": [
       "   Player ID  points_against  points_for  tournament_id\n",
       "0       6003             381         443           8163\n",
       "1      20749             375         435           8163\n",
       "2      19535             391         443           8163\n",
       "3      18474             386         439           8163\n",
       "4        583             396         450           8163"
      ]
     },
     "execution_count": 103,
     "metadata": {},
     "output_type": "execute_result"
    }
   ],
   "source": [
    "# Chart 1\n",
    "scrabble.columns = ['Player ID', 'points_against', 'points_for', 'tournament_id']\n",
    "scrabble.head()\n"
   ]
  },
  {
   "cell_type": "code",
   "execution_count": 100,
   "metadata": {},
   "outputs": [
    {
     "data": {
      "text/html": [
       "<div>\n",
       "<style scoped>\n",
       "    .dataframe tbody tr th:only-of-type {\n",
       "        vertical-align: middle;\n",
       "    }\n",
       "\n",
       "    .dataframe tbody tr th {\n",
       "        vertical-align: top;\n",
       "    }\n",
       "\n",
       "    .dataframe thead th {\n",
       "        text-align: right;\n",
       "    }\n",
       "</style>\n",
       "<table border=\"1\" class=\"dataframe\">\n",
       "  <thead>\n",
       "    <tr style=\"text-align: right;\">\n",
       "      <th></th>\n",
       "      <th>Byes</th>\n",
       "      <th>Credits</th>\n",
       "      <th>Losses</th>\n",
       "      <th>Name</th>\n",
       "      <th>New Rating</th>\n",
       "      <th>Old Rating</th>\n",
       "      <th>Other Money</th>\n",
       "      <th>Perf Rating</th>\n",
       "      <th>Place</th>\n",
       "      <th>Player ID</th>\n",
       "      <th>Prize Money</th>\n",
       "      <th>Seed</th>\n",
       "      <th>Spread</th>\n",
       "      <th>Ties</th>\n",
       "      <th>Tournament ID</th>\n",
       "      <th>Wins</th>\n",
       "      <th>division</th>\n",
       "    </tr>\n",
       "  </thead>\n",
       "  <tbody>\n",
       "    <tr>\n",
       "      <th>0</th>\n",
       "      <td>NaN</td>\n",
       "      <td>NaN</td>\n",
       "      <td>7</td>\n",
       "      <td>Nigel Richards</td>\n",
       "      <td>2196</td>\n",
       "      <td>2168.0</td>\n",
       "      <td>NaN</td>\n",
       "      <td>2356.0</td>\n",
       "      <td>1</td>\n",
       "      <td>6003</td>\n",
       "      <td>$10,000</td>\n",
       "      <td>1</td>\n",
       "      <td>1934</td>\n",
       "      <td>NaN</td>\n",
       "      <td>8163</td>\n",
       "      <td>24</td>\n",
       "      <td>Division 1</td>\n",
       "    </tr>\n",
       "    <tr>\n",
       "      <th>1</th>\n",
       "      <td>NaN</td>\n",
       "      <td>NaN</td>\n",
       "      <td>7</td>\n",
       "      <td>Komol Panyasophonlert</td>\n",
       "      <td>2070</td>\n",
       "      <td>2002.0</td>\n",
       "      <td>NaN</td>\n",
       "      <td>2372.0</td>\n",
       "      <td>2</td>\n",
       "      <td>20749</td>\n",
       "      <td>$3,000</td>\n",
       "      <td>11</td>\n",
       "      <td>1868</td>\n",
       "      <td>NaN</td>\n",
       "      <td>8163</td>\n",
       "      <td>24</td>\n",
       "      <td>Division 1</td>\n",
       "    </tr>\n",
       "    <tr>\n",
       "      <th>2</th>\n",
       "      <td>NaN</td>\n",
       "      <td>NaN</td>\n",
       "      <td>8</td>\n",
       "      <td>Will Anderson</td>\n",
       "      <td>2093</td>\n",
       "      <td>2054.0</td>\n",
       "      <td>NaN</td>\n",
       "      <td>2264.0</td>\n",
       "      <td>3</td>\n",
       "      <td>19535</td>\n",
       "      <td>$2,000</td>\n",
       "      <td>2</td>\n",
       "      <td>1623</td>\n",
       "      <td>NaN</td>\n",
       "      <td>8163</td>\n",
       "      <td>23</td>\n",
       "      <td>Division 1</td>\n",
       "    </tr>\n",
       "    <tr>\n",
       "      <th>3</th>\n",
       "      <td>NaN</td>\n",
       "      <td>NaN</td>\n",
       "      <td>9</td>\n",
       "      <td>Noah Walton</td>\n",
       "      <td>2063</td>\n",
       "      <td>2015.0</td>\n",
       "      <td>NaN</td>\n",
       "      <td>2239.0</td>\n",
       "      <td>4</td>\n",
       "      <td>18474</td>\n",
       "      <td>$1,000</td>\n",
       "      <td>8</td>\n",
       "      <td>1628</td>\n",
       "      <td>NaN</td>\n",
       "      <td>8163</td>\n",
       "      <td>22</td>\n",
       "      <td>Division 1</td>\n",
       "    </tr>\n",
       "    <tr>\n",
       "      <th>4</th>\n",
       "      <td>NaN</td>\n",
       "      <td>NaN</td>\n",
       "      <td>10</td>\n",
       "      <td>Kenji Matsumoto</td>\n",
       "      <td>2057</td>\n",
       "      <td>2023.0</td>\n",
       "      <td>NaN</td>\n",
       "      <td>2212.0</td>\n",
       "      <td>5</td>\n",
       "      <td>583</td>\n",
       "      <td>$800</td>\n",
       "      <td>5</td>\n",
       "      <td>1671</td>\n",
       "      <td>NaN</td>\n",
       "      <td>8163</td>\n",
       "      <td>21</td>\n",
       "      <td>Division 1</td>\n",
       "    </tr>\n",
       "  </tbody>\n",
       "</table>\n",
       "</div>"
      ],
      "text/plain": [
       "   Byes  Credits  Losses                   Name  New Rating  Old Rating  \\\n",
       "0   NaN      NaN       7         Nigel Richards        2196      2168.0   \n",
       "1   NaN      NaN       7  Komol Panyasophonlert        2070      2002.0   \n",
       "2   NaN      NaN       8          Will Anderson        2093      2054.0   \n",
       "3   NaN      NaN       9            Noah Walton        2063      2015.0   \n",
       "4   NaN      NaN      10        Kenji Matsumoto        2057      2023.0   \n",
       "\n",
       "  Other Money  Perf Rating  Place  Player ID Prize Money  Seed  Spread  Ties  \\\n",
       "0         NaN       2356.0      1       6003     $10,000     1    1934   NaN   \n",
       "1         NaN       2372.0      2      20749      $3,000    11    1868   NaN   \n",
       "2         NaN       2264.0      3      19535      $2,000     2    1623   NaN   \n",
       "3         NaN       2239.0      4      18474      $1,000     8    1628   NaN   \n",
       "4         NaN       2212.0      5        583        $800     5    1671   NaN   \n",
       "\n",
       "   Tournament ID  Wins    division  \n",
       "0           8163    24  Division 1  \n",
       "1           8163    24  Division 1  \n",
       "2           8163    23  Division 1  \n",
       "3           8163    22  Division 1  \n",
       "4           8163    21  Division 1  "
      ]
     },
     "execution_count": 100,
     "metadata": {},
     "output_type": "execute_result"
    }
   ],
   "source": [
    "tournament.head()"
   ]
  },
  {
   "cell_type": "code",
   "execution_count": 106,
   "metadata": {},
   "outputs": [
    {
     "data": {
      "text/html": [
       "<div>\n",
       "<style scoped>\n",
       "    .dataframe tbody tr th:only-of-type {\n",
       "        vertical-align: middle;\n",
       "    }\n",
       "\n",
       "    .dataframe tbody tr th {\n",
       "        vertical-align: top;\n",
       "    }\n",
       "\n",
       "    .dataframe thead th {\n",
       "        text-align: right;\n",
       "    }\n",
       "</style>\n",
       "<table border=\"1\" class=\"dataframe\">\n",
       "  <thead>\n",
       "    <tr style=\"text-align: right;\">\n",
       "      <th></th>\n",
       "      <th>Player ID</th>\n",
       "      <th>points_against</th>\n",
       "      <th>points_for</th>\n",
       "      <th>tournament_id</th>\n",
       "      <th>division</th>\n",
       "      <th>Name</th>\n",
       "    </tr>\n",
       "  </thead>\n",
       "  <tbody>\n",
       "    <tr>\n",
       "      <th>0</th>\n",
       "      <td>6003</td>\n",
       "      <td>381</td>\n",
       "      <td>443</td>\n",
       "      <td>8163</td>\n",
       "      <td>Division 1</td>\n",
       "      <td>Nigel Richards</td>\n",
       "    </tr>\n",
       "    <tr>\n",
       "      <th>1</th>\n",
       "      <td>20749</td>\n",
       "      <td>375</td>\n",
       "      <td>435</td>\n",
       "      <td>8163</td>\n",
       "      <td>Division 1</td>\n",
       "      <td>Komol Panyasophonlert</td>\n",
       "    </tr>\n",
       "    <tr>\n",
       "      <th>2</th>\n",
       "      <td>19535</td>\n",
       "      <td>391</td>\n",
       "      <td>443</td>\n",
       "      <td>8163</td>\n",
       "      <td>Division 1</td>\n",
       "      <td>Will Anderson</td>\n",
       "    </tr>\n",
       "    <tr>\n",
       "      <th>3</th>\n",
       "      <td>18474</td>\n",
       "      <td>386</td>\n",
       "      <td>439</td>\n",
       "      <td>8163</td>\n",
       "      <td>Division 1</td>\n",
       "      <td>Noah Walton</td>\n",
       "    </tr>\n",
       "    <tr>\n",
       "      <th>4</th>\n",
       "      <td>583</td>\n",
       "      <td>396</td>\n",
       "      <td>450</td>\n",
       "      <td>8163</td>\n",
       "      <td>Division 1</td>\n",
       "      <td>Kenji Matsumoto</td>\n",
       "    </tr>\n",
       "  </tbody>\n",
       "</table>\n",
       "</div>"
      ],
      "text/plain": [
       "   Player ID  points_against  points_for  tournament_id    division  \\\n",
       "0       6003             381         443           8163  Division 1   \n",
       "1      20749             375         435           8163  Division 1   \n",
       "2      19535             391         443           8163  Division 1   \n",
       "3      18474             386         439           8163  Division 1   \n",
       "4        583             396         450           8163  Division 1   \n",
       "\n",
       "                    Name  \n",
       "0         Nigel Richards  \n",
       "1  Komol Panyasophonlert  \n",
       "2          Will Anderson  \n",
       "3            Noah Walton  \n",
       "4        Kenji Matsumoto  "
      ]
     },
     "execution_count": 106,
     "metadata": {},
     "output_type": "execute_result"
    }
   ],
   "source": [
    "result = pd.merge(scrabble,\n",
    "                 tournament[['Player ID', 'division', 'Name']],\n",
    "                 on='Player ID')\n",
    "result.head()"
   ]
  },
  {
   "cell_type": "code",
   "execution_count": 138,
   "metadata": {},
   "outputs": [],
   "source": [
    "avg = result.groupby('division').mean()"
   ]
  },
  {
   "cell_type": "code",
   "execution_count": 182,
   "metadata": {},
   "outputs": [
    {
     "data": {
      "image/png": "[encoded data removed]",
      "text/plain": [
       "<Figure size 432x288 with 1 Axes>"
      ]
     },
     "metadata": {
      "needs_background": "light"
     },
     "output_type": "display_data"
    }
   ],
   "source": [
    "fig, ax = plt.subplots()\n",
    "plt.ylim([315, 445])\n",
    "plt.xlim([315, 445])\n",
    "\n",
    "colors = []\n",
    "for division in result.division:\n",
    "    if division == \"Division 1\":\n",
    "        colors.append(\"#fe2601\") # red\n",
    "    elif division == \"Division 2\":\n",
    "        colors.append(\"#f8b802\") #goldenrod\n",
    "    elif division == \"Division 3\":\n",
    "        colors.append(\"#77aa42\") #lime green\n",
    "    elif division == \"Division 4\":\n",
    "        colors.append(\"#3fa5dc\") #sky blue\n",
    "\n",
    "ax = result.plot(ax=ax, x='points_for', y='points_against', kind='scatter', color=colors,\n",
    "                          title=\"Avergae scores for the 2013 National Scrabble Championship\",)\n",
    "\n",
    "\n",
    "avg_colors = ['#055f83', '#487b08', '#c99006', '#a91a08']\n",
    "avg_colors.reverse()\n",
    "chart = avg.plot(ax=ax, x='points_for', y='points_against', kind='scatter', color=avg_colors, s=80)\n",
    "\n",
    "ax.grid()\n",
    "\n",
    "for axis in ax.spines:\n",
    "    ax.spines[axis].set_visible(False)\n",
    "    \n",
    "ax.set_facecolor('#F0F0F0')\n",
    "\n",
    "plt.tight_layout()\n",
    "plt.savefig(\"average.pdf\")"
   ]
  },
  {
   "cell_type": "markdown",
   "metadata": {},
   "source": [
    "# The Economist\n",
    "\n",
    "Recreate the donut chart from [this piece](https://www.economist.com/blogs/graphicdetail/2012/07/daily-chart-0) even though [they're terrible](https://peltiertech.com/chart-busters-the-economist-doesnt-read-forbes/).\n",
    "\n",
    "![](images/economist.png)\n",
    "\n",
    "In fact, the pies are _so terrible_ we're going to **recreate the [revised chart](https://peltiertech.com/chart-busters-the-economist-doesnt-read-forbes/), too**. The important thing about it is that while the original chart focuses on the actual values in 2007 and 2011, the arrow chart reduces those values to **just the change**, which is (arguably) the important part.\n",
    "\n",
    "![](images/econ-revised.png)\n",
    "\n",
    "The revised chart is ugly, though, so we're going to make it look nicer.\n",
    "\n",
    "1. Slightly change the chart type (See Homework Hints file)\n",
    "2. Change the colors (Make it match the Economist)\n",
    "3. Change any other styles/font/etc (Make it match the Economist\n",
    "4. Order the bars (Order by what? Up to you.)\n",
    "\n",
    "**Data:** \n",
    "   \n",
    "* `bank-profits.csv`"
   ]
  },
  {
   "cell_type": "code",
   "execution_count": null,
   "metadata": {},
   "outputs": [],
   "source": []
  },
  {
   "cell_type": "code",
   "execution_count": null,
   "metadata": {},
   "outputs": [],
   "source": []
  },
  {
   "cell_type": "code",
   "execution_count": null,
   "metadata": {},
   "outputs": [],
   "source": []
  },
  {
   "cell_type": "code",
   "execution_count": null,
   "metadata": {},
   "outputs": [],
   "source": []
  },
  {
   "cell_type": "code",
   "execution_count": null,
   "metadata": {},
   "outputs": [],
   "source": []
  },
  {
   "cell_type": "code",
   "execution_count": null,
   "metadata": {},
   "outputs": [],
   "source": []
  },
  {
   "cell_type": "markdown",
   "metadata": {},
   "source": [
    "# The Guardian\n",
    "\n",
    "We'll be recreating a single graph each from \n",
    "\n",
    "1. [this piece](https://www.theguardian.com/news/datablog/2018/jan/26/no-equality-in-the-honours-two-thirds-of-australia-day-awards-go-to-men)\n",
    "2. and [this piece](https://www.theguardian.com/inequality/datablog/2017/jul/17/which-countries-most-and-least-committed-to-reducing-inequality-oxfam-dfi)\n",
    "3. and [this piece](https://www.theguardian.com/money/datablog/2017/jan/06/tracking-the-cost-uk-and-european-commuter-rail-fares-compared-in-data)\n",
    "\n",
    "![](images/guardian.png)\n",
    "\n",
    "We'll be using skills from the Economist revision, so **please do that one first!**\n",
    "\n",
    "**Data:**\n",
    "\n",
    "* `order-of-australia.csv`\n",
    "* `oxfam.csv`\n",
    "* `commute.csv`"
   ]
  },
  {
   "cell_type": "code",
   "execution_count": null,
   "metadata": {},
   "outputs": [],
   "source": []
  },
  {
   "cell_type": "code",
   "execution_count": null,
   "metadata": {},
   "outputs": [],
   "source": []
  },
  {
   "cell_type": "code",
   "execution_count": null,
   "metadata": {},
   "outputs": [],
   "source": []
  },
  {
   "cell_type": "code",
   "execution_count": null,
   "metadata": {},
   "outputs": [],
   "source": []
  }
 ],
 "metadata": {
  "kernelspec": {
   "display_name": "Python 3",
   "language": "python",
   "name": "python3"
  },
  "language_info": {
   "codemirror_mode": {
    "name": "ipython",
    "version": 3
   },
   "file_extension": ".py",
   "mimetype": "text/x-python",
   "name": "python",
   "nbconvert_exporter": "python",
   "pygments_lexer": "ipython3",
   "version": "3.6.8"
  }
 },
 "nbformat": 4,
 "nbformat_minor": 2
}
