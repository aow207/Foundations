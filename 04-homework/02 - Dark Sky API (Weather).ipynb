{
 "cells": [
  {
   "cell_type": "markdown",
   "metadata": {},
   "source": [
    "# Dark Sky API (Weather)\n",
    "\n",
    "Answer the following questions using the [Dark Sky API](https://darksky.net/dev/). I've added three cells for each question but you're free to use more or less! Hold `Shift` and hit `Enter` to run a cell, and use the `+` on the top left to add a new cell to a notebook.\n",
    "\n",
    "If you spend some time reading the documentation your life will probably be a little bit easier!\n",
    "\n",
    "## 0) Import any libraries you might need\n",
    "\n",
    "- *Tip: We're going to be downloading things from the internet, so we probably need `requests`.*"
   ]
  },
  {
   "cell_type": "code",
   "execution_count": 1,
   "metadata": {},
   "outputs": [],
   "source": [
    "from dotenv import load_dotenv\n",
    "load_dotenv()\n",
    "import os\n",
    "\n",
    "API_KEY = os.getenv(\"DARKSKY_API_KEY\")\n",
    "import requests"
   ]
  },
  {
   "cell_type": "code",
   "execution_count": null,
   "metadata": {},
   "outputs": [],
   "source": [
    "\n",
    "\n"
   ]
  },
  {
   "cell_type": "markdown",
   "metadata": {
    "collapsed": true
   },
   "source": [
    "## 1) Make a request from the Dark Sky API for where you were born (or lived, or want to visit!).\n",
    "\n",
    "- *Tip: The URL we used in class was for a place near San Francisco. What was the format of the endpoint that made this happen?*\n",
    "- *Tip: Save the URL as a separate variable, and be sure to not have `[` and `]` inside.*\n",
    "- *Tip: How is north vs. south and east vs. west latitude/longitude represented? Is it the normal North/South/East/West?*\n",
    "- *Tip: You know it's JSON, but Python doesn't! Make sure you aren't trying to deal with plain text.* \n",
    "- *Tip: Once you've imported the JSON into a variable, check the timezone's name to make sure it seems like it got the right part of the world!*"
   ]
  },
  {
   "cell_type": "code",
   "execution_count": 2,
   "metadata": {},
   "outputs": [
    {
     "data": {
      "text/plain": [
       "dict_keys(['latitude', 'longitude', 'timezone', 'currently', 'minutely', 'hourly', 'daily', 'flags', 'offset'])"
      ]
     },
     "execution_count": 2,
     "metadata": {},
     "output_type": "execute_result"
    }
   ],
   "source": [
    "response = requests.get(f'https://api.darksky.net/forecast/{API_KEY}/34.0686,-117.9390') #West Covina, California\n",
    "weather = response.json()\n",
    "weather.keys()\n"
   ]
  },
  {
   "cell_type": "code",
   "execution_count": 3,
   "metadata": {},
   "outputs": [
    {
     "name": "stdout",
     "output_type": "stream",
     "text": [
      "{'time': 1559931167, 'summary': 'Mostly Cloudy', 'icon': 'partly-cloudy-day', 'nearestStormDistance': 2, 'nearestStormBearing': 270, 'precipIntensity': 0, 'precipProbability': 0, 'temperature': 69.11, 'apparentTemperature': 69.11, 'dewPoint': 57.44, 'humidity': 0.66, 'pressure': 1011.81, 'windSpeed': 2.96, 'windGust': 6.52, 'windBearing': 223, 'cloudCover': 0.92, 'uvIndex': 5, 'visibility': 10, 'ozone': 315.56}\n"
     ]
    },
    {
     "data": {
      "text/plain": [
       "69.11"
      ]
     },
     "execution_count": 3,
     "metadata": {},
     "output_type": "execute_result"
    }
   ],
   "source": [
    "current = weather['currently']\n",
    "print(current)\n",
    "current['temperature']"
   ]
  },
  {
   "cell_type": "code",
   "execution_count": null,
   "metadata": {},
   "outputs": [],
   "source": []
  },
  {
   "cell_type": "markdown",
   "metadata": {},
   "source": [
    "## 2) What's the current wind speed? How much warmer does it feel than it actually is?\n",
    "\n",
    "- *Tip: You can do this by browsing through the dictionaries, but it might be easier to read the documentation*\n",
    "- *Tip: For the second half: it **is** one temperature, and it **feels** a different temperature. Calculate the difference.*"
   ]
  },
  {
   "cell_type": "code",
   "execution_count": 4,
   "metadata": {},
   "outputs": [
    {
     "data": {
      "text/plain": [
       "2.96"
      ]
     },
     "execution_count": 4,
     "metadata": {},
     "output_type": "execute_result"
    }
   ],
   "source": [
    "current['windSpeed']"
   ]
  },
  {
   "cell_type": "code",
   "execution_count": 5,
   "metadata": {},
   "outputs": [
    {
     "data": {
      "text/plain": [
       "0.0"
      ]
     },
     "execution_count": 5,
     "metadata": {},
     "output_type": "execute_result"
    }
   ],
   "source": [
    "current['temperature'] - current['apparentTemperature']"
   ]
  },
  {
   "cell_type": "code",
   "execution_count": null,
   "metadata": {},
   "outputs": [],
   "source": []
  },
  {
   "cell_type": "markdown",
   "metadata": {},
   "source": [
    "## 3) Today's forecast is the FIRST daily forecast. For the place you decided on above, how much of the moon is currently visible?\n",
    "\n",
    "- *Tip: This does **not** use the `currently` key.*\n",
    "- *Tip: It might be helpful to save the forecast into its own variable*"
   ]
  },
  {
   "cell_type": "code",
   "execution_count": 23,
   "metadata": {},
   "outputs": [
    {
     "name": "stdout",
     "output_type": "stream",
     "text": [
      "1559890800\n",
      "2019-06-07 07:00:00\n",
      "Moon visible: 0.16\n"
     ]
    }
   ],
   "source": [
    "daily = weather['daily']\n",
    "#print(daily.keys())\n",
    "#print(daily)\n",
    "daily_data = daily['data']\n",
    "\n",
    "from datetime import datetime\n",
    "\n",
    "dates = []\n",
    "for data in daily_data:\n",
    "    date = datetime.utcfromtimestamp(data['time']).strftime('%Y-%m-%d %H:%M:%S')\n",
    "    dates.append(data['time'])\n",
    "    #print(date)\n",
    "    \n",
    "    if min(dates) == data['time']:\n",
    "        print(data['time'])\n",
    "        print(date)\n",
    "        print(\"Moon visible:\", data['moonPhase'])"
   ]
  },
  {
   "cell_type": "code",
   "execution_count": null,
   "metadata": {},
   "outputs": [],
   "source": []
  },
  {
   "cell_type": "code",
   "execution_count": null,
   "metadata": {},
   "outputs": [],
   "source": []
  },
  {
   "cell_type": "markdown",
   "metadata": {},
   "source": [
    "## 4) What's the difference between the high and low temperatures for today?"
   ]
  },
  {
   "cell_type": "code",
   "execution_count": 28,
   "metadata": {},
   "outputs": [
    {
     "name": "stdout",
     "output_type": "stream",
     "text": [
      "1559890800\n",
      "2019-06-07 07:00:00\n",
      "High: 79.91 Low: 60.8\n",
      "The difference is: 19.11\n"
     ]
    }
   ],
   "source": [
    "#print(daily['data'])\n",
    "#print(daily_data)\n",
    "\n",
    "for data in daily_data:\n",
    "    #print(data.keys())\n",
    "    #print(data['time'])\n",
    "    date = datetime.utcfromtimestamp(data['time']).strftime('%Y-%m-%d %H:%M:%S')\n",
    "    \n",
    "    if min(dates) == data['time']:\n",
    "        print(min(dates))\n",
    "        print(date)\n",
    "        print(\"High:\", data['temperatureHigh'], \"Low:\", data['temperatureLow'])\n",
    "        print(\"The difference is:\", data['temperatureHigh']-data['temperatureLow'])"
   ]
  },
  {
   "cell_type": "code",
   "execution_count": null,
   "metadata": {},
   "outputs": [],
   "source": []
  },
  {
   "cell_type": "code",
   "execution_count": null,
   "metadata": {},
   "outputs": [],
   "source": []
  },
  {
   "cell_type": "markdown",
   "metadata": {},
   "source": [
    "## 5) Go through the daily forecasts, printing out the next week's worth of predictions.\n",
    "\n",
    "I'd like to know the **high temperature** for each day, and whether it's **hot, warm, or cold** (based on what temperatures you think are hot, warm or cold).\n",
    "\n",
    "- *Tip: Is it returning F or C? You can change them by adding `?units=us` or `?units=si` onto the end of the URL.*\n",
    "- *Tip: You'll need to use an `if` statement to say whether it is hot, warm or cold.*"
   ]
  },
  {
   "cell_type": "code",
   "execution_count": 36,
   "metadata": {},
   "outputs": [
    {
     "name": "stdout",
     "output_type": "stream",
     "text": [
      "2019-06-07 07:00:00\n",
      "The high is: 79.91\n",
      "It's warm outside\n",
      "\n",
      "2019-06-08 07:00:00\n",
      "The high is: 86.75\n",
      "It's hot outside\n",
      "\n",
      "2019-06-09 07:00:00\n",
      "The high is: 93.3\n",
      "It's hot outside\n",
      "\n",
      "2019-06-10 07:00:00\n",
      "The high is: 90.32\n",
      "It's hot outside\n",
      "\n",
      "2019-06-11 07:00:00\n",
      "The high is: 89.43\n",
      "It's hot outside\n",
      "\n",
      "2019-06-12 07:00:00\n",
      "The high is: 88.02\n",
      "It's hot outside\n",
      "\n",
      "2019-06-13 07:00:00\n",
      "The high is: 84.97\n",
      "It's hot outside\n",
      "\n",
      "2019-06-14 07:00:00\n",
      "The high is: 81.5\n",
      "It's hot outside\n",
      "\n"
     ]
    }
   ],
   "source": [
    "for data in daily_data:\n",
    "    #print(data.keys())\n",
    "    #print(data['time'])\n",
    "    date = datetime.utcfromtimestamp(data['time']).strftime('%Y-%m-%d %H:%M:%S')\n",
    "    #print(min(dates))\n",
    "    print(date)\n",
    "    print(\"The high is:\", data['temperatureHigh'])\n",
    "    \n",
    "    if data['temperatureHigh'] >= 80:\n",
    "        print(\"It's hot outside\")\n",
    "    elif data['temperatureHigh'] <= 65:\n",
    "        print(\"It's cold outside\")\n",
    "    else:\n",
    "        print(\"It's warm outside\")\n",
    "    print()"
   ]
  },
  {
   "cell_type": "code",
   "execution_count": null,
   "metadata": {},
   "outputs": [],
   "source": []
  },
  {
   "cell_type": "code",
   "execution_count": null,
   "metadata": {},
   "outputs": [],
   "source": []
  },
  {
   "cell_type": "markdown",
   "metadata": {},
   "source": [
    "# 6) What will be the hottest day in the next week? What is the high temperature on that day?\n",
    "\n",
    "It's okay if your result looks like `1453363200`. If you want to be extra-fancy, though, format it as a **real date** - the weird number is called a **UNIX timestamp**, which might help in googling.\n",
    "\n",
    "- *Tip: It's okay to skip this if it seems too difficult!*"
   ]
  },
  {
   "cell_type": "code",
   "execution_count": 52,
   "metadata": {},
   "outputs": [
    {
     "name": "stdout",
     "output_type": "stream",
     "text": [
      "The hottest day is: 2019-06-09 07:00:00\n",
      "The temperature is: 93.3\n"
     ]
    }
   ],
   "source": [
    "hottest = 0\n",
    "\n",
    "for data in daily_data:    \n",
    "    if data['temperatureHigh'] > hottest:\n",
    "        hottest = data['temperatureHigh']\n",
    "\n",
    "for data in daily_data:\n",
    "    date = datetime.utcfromtimestamp(data['time']).strftime('%Y-%m-%d %H:%M:%S')\n",
    "    \n",
    "    if data['temperatureHigh'] == hottest:\n",
    "        print(\"The hottest day is:\", date) \n",
    "        print(\"The temperature is:\", data['temperatureHigh'])    "
   ]
  },
  {
   "cell_type": "code",
   "execution_count": null,
   "metadata": {},
   "outputs": [],
   "source": []
  },
  {
   "cell_type": "code",
   "execution_count": null,
   "metadata": {},
   "outputs": [],
   "source": []
  },
  {
   "cell_type": "markdown",
   "metadata": {},
   "source": [
    "## 7) What's the weather looking like for the next 24+ hours in Miami, Florida?\n",
    "\n",
    "I'd like to know the temperature for every hour, and if it's going to have cloud cover of more than 50% say \"{temperature} and cloudy\" instead of just the temperature. \n",
    "\n",
    "\n",
    "- *Tip: Be sure to remember how latitude and longitude are done with positive and negative numbers*\n",
    "- *Tip: How do you represent \"50%\" for cloud cover?*"
   ]
  },
  {
   "cell_type": "code",
   "execution_count": 57,
   "metadata": {},
   "outputs": [
    {
     "data": {
      "text/plain": [
       "dict_keys(['latitude', 'longitude', 'timezone', 'currently', 'minutely', 'hourly', 'daily', 'flags', 'offset'])"
      ]
     },
     "execution_count": 57,
     "metadata": {},
     "output_type": "execute_result"
    }
   ],
   "source": [
    "response = requests.get(f'https://api.darksky.net/forecast/{API_KEY}/25.77427, -80.19366') #Miami, Florida\n",
    "miami = response.json()\n",
    "miami.keys()"
   ]
  },
  {
   "cell_type": "code",
   "execution_count": 64,
   "metadata": {},
   "outputs": [],
   "source": [
    "hourly = miami['hourly']\n",
    "hourly_data = hourly['data']"
   ]
  },
  {
   "cell_type": "code",
   "execution_count": 86,
   "metadata": {},
   "outputs": [
    {
     "name": "stdout",
     "output_type": "stream",
     "text": [
      "2019-06-07 18:00:00 | The temperature is, 92.24  and cloudy with a cloud cover of 0.66\n",
      "2019-06-07 19:00:00 | The temperature is, 90.88  and cloudy with a cloud cover of 0.89\n",
      "2019-06-07 20:00:00 | The temperature is, 89.24  and cloudy with a cloud cover of 0.92\n",
      "2019-06-07 21:00:00 | The temperature is, 87.91  and cloudy with a cloud cover of 0.82\n",
      "2019-06-07 22:00:00 | The temperature is, 86.8  and cloudy with a cloud cover of 0.76\n",
      "2019-06-07 23:00:00 | The temperature is, 85.37  and cloudy with a cloud cover of 0.8\n",
      "2019-06-08 00:00:00 | The temperature is, 84.05  and cloudy with a cloud cover of 0.76\n",
      "2019-06-08 01:00:00 | The temperature is, 83.15  and cloudy with a cloud cover of 0.67\n",
      "2019-06-08 02:00:00 | The temperature is, 82.62  and cloudy with a cloud cover of 0.6\n",
      "2019-06-08 03:00:00 | The temperature is, 82.18  and cloudy with a cloud cover of 0.71\n",
      "2019-06-08 04:00:00 | The temperature is, 81.81  and cloudy with a cloud cover of 0.76\n",
      "2019-06-08 05:00:00 | The temperature is, 81.44  and cloudy with a cloud cover of 0.63\n",
      "2019-06-08 06:00:00 | The temperature is, 79.65  and cloudy with a cloud cover of 0.57\n",
      "2019-06-08 07:00:00 | The temperature is, 78.03  and cloudy with a cloud cover of 0.69\n",
      "2019-06-08 08:00:00 | The temperature is, 77.54  and cloudy with a cloud cover of 0.58\n",
      "2019-06-08 09:00:00 | The temperature is, 77.41  and cloudy with a cloud cover of 0.82\n",
      "2019-06-08 10:00:00 | The temperature is, 77.88  and cloudy with a cloud cover of 0.75\n",
      "2019-06-08 11:00:00 | The temperature is, 78.54  and cloudy with a cloud cover of 0.66\n",
      "2019-06-08 12:00:00 | The temperature is, 79.96  and cloudy with a cloud cover of 0.58\n",
      "2019-06-08 13:00:00 | The temperature is, 82.45  and cloudy with a cloud cover of 0.53\n",
      "2019-06-08 14:00:00 | The temperature is, 84.53\n",
      "2019-06-08 15:00:00 | The temperature is, 86.28\n",
      "2019-06-08 16:00:00 | The temperature is, 87.3\n",
      "2019-06-08 17:00:00 | The temperature is, 90.07  and cloudy with a cloud cover of 0.54\n",
      "2019-06-08 18:00:00 | The temperature is, 91.66  and cloudy with a cloud cover of 0.59\n",
      "2019-06-08 19:00:00 | The temperature is, 91.68  and cloudy with a cloud cover of 0.66\n",
      "2019-06-08 20:00:00 | The temperature is, 90.68  and cloudy with a cloud cover of 0.72\n",
      "2019-06-08 21:00:00 | The temperature is, 89.43  and cloudy with a cloud cover of 0.75\n",
      "2019-06-08 22:00:00 | The temperature is, 87.96  and cloudy with a cloud cover of 0.71\n",
      "2019-06-08 23:00:00 | The temperature is, 86.74  and cloudy with a cloud cover of 0.63\n",
      "2019-06-09 00:00:00 | The temperature is, 85.57  and cloudy with a cloud cover of 0.58\n",
      "2019-06-09 01:00:00 | The temperature is, 84.72  and cloudy with a cloud cover of 0.62\n",
      "2019-06-09 02:00:00 | The temperature is, 83.82  and cloudy with a cloud cover of 0.66\n",
      "2019-06-09 03:00:00 | The temperature is, 83.09  and cloudy with a cloud cover of 0.68\n",
      "2019-06-09 04:00:00 | The temperature is, 82.48  and cloudy with a cloud cover of 0.67\n",
      "2019-06-09 05:00:00 | The temperature is, 81.97  and cloudy with a cloud cover of 0.64\n",
      "2019-06-09 06:00:00 | The temperature is, 80.02  and cloudy with a cloud cover of 0.62\n",
      "2019-06-09 07:00:00 | The temperature is, 77.88  and cloudy with a cloud cover of 0.61\n",
      "2019-06-09 08:00:00 | The temperature is, 77.22  and cloudy with a cloud cover of 0.61\n",
      "2019-06-09 09:00:00 | The temperature is, 77.05  and cloudy with a cloud cover of 0.59\n",
      "2019-06-09 10:00:00 | The temperature is, 77.37  and cloudy with a cloud cover of 0.55\n",
      "2019-06-09 11:00:00 | The temperature is, 78.12\n",
      "2019-06-09 12:00:00 | The temperature is, 79.71\n",
      "2019-06-09 13:00:00 | The temperature is, 81.96\n",
      "2019-06-09 14:00:00 | The temperature is, 83.92\n",
      "2019-06-09 15:00:00 | The temperature is, 85.24\n",
      "2019-06-09 16:00:00 | The temperature is, 86.43\n",
      "2019-06-09 17:00:00 | The temperature is, 88.94\n",
      "2019-06-09 18:00:00 | The temperature is, 90.77\n"
     ]
    }
   ],
   "source": [
    "hourly_temp = []\n",
    "for hour in hourly_data:\n",
    "    hourly_temp.append(hour['temperature'])\n",
    "    #print(hour)\n",
    "    date = datetime.utcfromtimestamp(hour['time']).strftime('%Y-%m-%d %H:%M:%S')\n",
    "    if hour['cloudCover'] > 0.50:\n",
    "        print(date, \"| The temperature is,\", hour['temperature'], \" and cloudy with a cloud cover of\", hour['cloudCover'])\n",
    "    else:\n",
    "        print(date, \"| The temperature is,\", hour['temperature'])"
   ]
  },
  {
   "cell_type": "markdown",
   "metadata": {},
   "source": [
    "# 8) For the next 24-ish hours in Miami, what percent of the time is the temperature above 85 degrees?\n",
    "\n",
    "If they give you 48 hours instead of 24, that's okay.\n",
    "\n",
    "- *Tip: You might want to read up on [looping patterns](http://jonathansoma.com/lede/foundations-2017/classes/data%20structures/looping-patterns/)*"
   ]
  },
  {
   "cell_type": "code",
   "execution_count": 137,
   "metadata": {},
   "outputs": [],
   "source": [
    "#print(len(hourly_temp))\n",
    "#print(hourly_temp)\n",
    "hot_temps = []"
   ]
  },
  {
   "cell_type": "code",
   "execution_count": 138,
   "metadata": {},
   "outputs": [],
   "source": [
    "for temp in hourly_temp:\n",
    "    if temp > 85:\n",
    "        hot_temps.append(temp)"
   ]
  },
  {
   "cell_type": "code",
   "execution_count": 141,
   "metadata": {},
   "outputs": [
    {
     "name": "stdout",
     "output_type": "stream",
     "text": [
      "40.8% of the time\n"
     ]
    }
   ],
   "source": [
    "perc = len(hot_temps)/len(hourly_temp)*100\n",
    "rounded = round(perc, 1)\n",
    "print(f\"{rounded}% of the time\")"
   ]
  },
  {
   "cell_type": "markdown",
   "metadata": {},
   "source": [
    "## 9) What was the temperature in Central Park on Christmas Day, 2012? How about 2007? 2005? How far back does the API allow you to go?\n",
    "\n",
    "- *Tip: You'll need to use UNIX time, which is the number of seconds since January 1, 1970. Google can help you convert a normal date!*\n",
    "- *Tip: You'll want to use Forecast.io's \"time machine\" API, [documentation here](https://darksky.net/dev/docs/time-machine)*"
   ]
  },
  {
   "cell_type": "code",
   "execution_count": 152,
   "metadata": {},
   "outputs": [],
   "source": [
    "year = [1356436800,1198584000,1135512000] #Christmas Day 2012, 2007, 2005"
   ]
  },
  {
   "cell_type": "code",
   "execution_count": 153,
   "metadata": {},
   "outputs": [
    {
     "name": "stdout",
     "output_type": "stream",
     "text": [
      "On 2012-12-25 05:00:00\n",
      "The high was 40.28\n",
      "The low was 27.78\n",
      "\n",
      "On 2007-12-25 05:00:00\n",
      "The high was 42.33\n",
      "The low was 29.55\n",
      "\n",
      "On 2005-12-25 05:00:00\n",
      "The high was 45.73\n",
      "The low was 45.66\n",
      "\n"
     ]
    }
   ],
   "source": [
    "for i in year:\n",
    "    response = requests.get(f'https://api.darksky.net/forecast/{API_KEY}/40.7829, -73.9654,{i}') #Central Park, NYC\n",
    "    NYC = response.json()\n",
    "    \n",
    "    daily = NYC['daily']\n",
    "    daily_data = daily['data']\n",
    "    \n",
    "    for day in daily_data:\n",
    "        #print(day)\n",
    "        date = datetime.utcfromtimestamp(day['time']).strftime('%Y-%m-%d %H:%M:%S')\n",
    "        print(\"On\", date)\n",
    "        print(\"The high was\", day['temperatureHigh'])\n",
    "        print(\"The low was\", day['temperatureLow'])\n",
    "        print()\n",
    "    "
   ]
  },
  {
   "cell_type": "code",
   "execution_count": null,
   "metadata": {},
   "outputs": [],
   "source": []
  }
 ],
 "metadata": {
  "kernelspec": {
   "display_name": "Python 3",
   "language": "python",
   "name": "python3"
  },
  "language_info": {
   "codemirror_mode": {
    "name": "ipython",
    "version": 3
   },
   "file_extension": ".py",
   "mimetype": "text/x-python",
   "name": "python",
   "nbconvert_exporter": "python",
   "pygments_lexer": "ipython3",
   "version": "3.7.0"
  }
 },
 "nbformat": 4,
 "nbformat_minor": 1
}
