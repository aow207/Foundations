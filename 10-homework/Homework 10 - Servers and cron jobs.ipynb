{
 "cells": [
  {
   "cell_type": "markdown",
   "metadata": {},
   "source": [
    "## Using APIs/Data Structures\n",
    "Using the Dark Sky Forecast API at https://developer.forecast.io/, generate a sentence that describes the weather that day.\n",
    "\n",
    "Right now it is TEMPERATURE degrees out and SUMMARY. Today will be TEMP_FEELING with a high of HIGH_TEMP and a low of LOW_TEMP. RAIN_WARNING.\n",
    "\n",
    "- TEMPERATURE is the current temperature\n",
    "- SUMMARY is what it currently looks like (partly cloudy, etc - it's \"summary\" in the dictionary). Lowercase, please.\n",
    "- TEMP_FEELING is whether it will be hot, warm, cold, or moderate. You will probably use HIGH_TEMP and your own thoughts and feelings to determine this.\n",
    "- HIGH_TEMP is the high temperature for the day.\n",
    "- LOW_TEMP is the low temperature for the day.\n",
    "- RAIN_WARNING is something like \"bring your umbrella!\" if it is going to rain at some point during the day.\n",
    "\n",
    "You can take a look at the documentation, but \"current\" contains the current conditions and the first element of \"daily\" is for the current day. But you knew that, right?!\n",
    "\n",
    "Feel free to steal your old code! I bet that trying to read it will make you depressed and teaches you the value of naming variables.\n",
    "\n",
    "Once you've accomplished that part, use Mailgun to send yourself an email every morning at 8AM telling you the sentence. The subject line of the email should be something like \"8AM Weather forecast: January 1, 1970.\"\n",
    "\n",
    "Dates are obtained by doing something like this, using http://strftime.org/ as a reference:\n",
    "\n",
    "import datetime\n",
    "right_now = datetime.datetime.now()\n",
    "date_string = right_now.strftime(\"%Y-%M\")\n",
    "\n",
    "BONUS: List the forecasted temperatures as the day goes on.\n",
    "\n",
    "BONUS: Set the timezone on your server so emails go out at the right time."
   ]
  },
  {
   "cell_type": "code",
   "execution_count": null,
   "metadata": {},
   "outputs": [],
   "source": []
  }
 ],
 "metadata": {
  "kernelspec": {
   "display_name": "Python 3",
   "language": "python",
   "name": "python3"
  },
  "language_info": {
   "codemirror_mode": {
    "name": "ipython",
    "version": 3
   },
   "file_extension": ".py",
   "mimetype": "text/x-python",
   "name": "python",
   "nbconvert_exporter": "python",
   "pygments_lexer": "ipython3",
   "version": "3.7.3"
  }
 },
 "nbformat": 4,
 "nbformat_minor": 2
}
