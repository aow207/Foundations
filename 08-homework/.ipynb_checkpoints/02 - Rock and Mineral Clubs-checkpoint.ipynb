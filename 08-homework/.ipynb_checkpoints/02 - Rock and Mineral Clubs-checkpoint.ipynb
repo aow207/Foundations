{
 "cells": [
  {
   "cell_type": "markdown",
   "metadata": {},
   "source": [
    "# Rock and Mineral Clubs\n",
    "# Andrew Williams\n",
    "\n",
    "Scrape all of the rock and mineral clubs listed at https://rocktumbler.com/blog/rock-and-mineral-clubs/ (but don't just cut and paste!)\n",
    "\n",
    "Save a CSV called `rock-clubs.csv` with the name of the club, their URL, and the city they're located in.\n",
    "\n",
    "**Bonus**: Add a column for the state. There are a few ways to do this, but knowing that `element.parent` goes 'up' one element might be helpful.\n",
    "\n",
    "* _**Hint:** The name of the club and the city are both inside of td elements, and they aren't distinguishable by class. Instead you'll just want to ask for all of the tds and then just ask for the text from the first or second one._\n",
    "* _**Hint:** If you use BeautifulSoup, you can select elements by attributes other than class or id._"
   ]
  },
  {
   "cell_type": "code",
   "execution_count": 1,
   "metadata": {},
   "outputs": [],
   "source": [
    "from selenium import webdriver\n",
    "driver = webdriver.Chrome()\n",
    "driver.get(\"https://rocktumbler.com/blog/rock-and-mineral-clubs/\")"
   ]
  },
  {
   "cell_type": "code",
   "execution_count": 3,
   "metadata": {},
   "outputs": [],
   "source": [
    "clubs = []\n",
    "cities = []"
   ]
  },
  {
   "cell_type": "code",
   "execution_count": null,
   "metadata": {
    "scrolled": false
   },
   "outputs": [],
   "source": [
    "#Name & City of Club\n",
    "table = driver.find_elements_by_tag_name('tbody')\n",
    "\n",
    "for row in table:\n",
    "    data = (row.find_elements_by_tag_name('td'))\n",
    "    for item in data:\n",
    "        if item.get_attribute('width') == \"60%\":\n",
    "            #row['club'] = item.text\n",
    "            clubs.append(item.text)\n",
    "        elif item.get_attribute('width') == \"40%\":\n",
    "            #row['city'] = item.text\n",
    "            cities.append(item.text)"
   ]
  },
  {
   "cell_type": "code",
   "execution_count": 8,
   "metadata": {},
   "outputs": [],
   "source": [
    "#Links\n",
    "urls = []\n",
    "table = driver.find_elements_by_tag_name('tbody')\n",
    "for row in table:\n",
    "    links = (row.find_elements_by_tag_name('td'))\n",
    "    for url in links:\n",
    "        #row2['links'] = url.get_attribute('href')\n",
    "        if url.get_attribute('width') == \"60%\":\n",
    "            urls.append(url.get_attribute('a'))"
   ]
  },
  {
   "cell_type": "code",
   "execution_count": 9,
   "metadata": {},
   "outputs": [
    {
     "name": "stdout",
     "output_type": "stream",
     "text": [
      "[]\n",
      "[None, None, None, None, None, None, None, None, None, None, None, None, None, None, None, None, None, None, None, None, None, None, None, None, None, None, None, None, None, None, None, None, None, None, None, None, None, None, None, None, None, None, None, None, None, None, None, None, None, None, None, None, None, None, None, None, None, None, None, None, None, None, None, None, None, None, None, None, None, None, None, None, None, None, None, None, None, None, None, None, None, None, None, None, None, None, None, None, None, None, None, None, None, None, None, None, None, None, None, None, None, None, None, None, None, None, None, None, None, None, None, None, None, None, None, None, None, None, None, None, None, None, None, None, None, None, None, None, None, None, None, None, None, None, None, None, None, None, None, None, None, None, None, None, None, None, None, None, None, None, None, None, None, None, None, None, None, None, None, None, None, None, None, None, None, None, None, None, None, None, None, None, None, None, None, None, None, None, None, None, None, None, None, None, None, None, None, None, None, None, None, None, None, None, None, None, None, None, None, None, None, None, None, None, None, None, None, None, None, None, None, None, None, None, None, None, None, None, None, None, None, None, None, None, None, None, None, None, None, None, None, None, None, None, None, None, None, None, None, None, None, None, None, None, None, None, None, None, None, None, None, None, None, None, None, None, None, None, None, None, None, None, None, None, None, None, None, None, None, None, None, None, None, None, None, None, None, None, None, None, None, None, None, None, None, None, None, None, None, None, None, None, None, None, None, None, None, None, None, None, None, None, None, None, None, None, None, None, None, None, None, None, None, None, None, None, None, None, None, None, None, None, None, None, None, None, None, None, None, None, None, None, None, None, None, None, None, None, None, None, None, None, None, None, None, None, None, None, None, None, None, None, None, None, None, None, None, None, None, None, None, None, None, None, None, None, None, None, None, None, None, None, None, None, None, None, None, None, None, None, None, None, None, None, None, None, None, None, None, None, None, None, None, None, None, None, None, None, None, None, None, None, None, None, None, None, None, None, None, None, None, None, None, None, None, None, None, None, None, None, None, None, None, None, None, None, None, None, None, None, None, None, None, None, None, None, None, None, None, None, None, None, None, None, None, None, None, None, None, None, None, None, None, None, None, None, None, None, None, None, None, None, None, None, None, None, None, None, None, None, None, None, None, None, None, None, None, None, None, None, None, None, None, None]\n",
      "[]\n"
     ]
    }
   ],
   "source": [
    "print(clubs)\n",
    "print(urls)\n",
    "print(cities)"
   ]
  },
  {
   "cell_type": "code",
   "execution_count": 39,
   "metadata": {},
   "outputs": [
    {
     "name": "stdout",
     "output_type": "stream",
     "text": [
      "{'club': 'Wyoming State Mineral and Gem Society', 'city': 'Cody', 'url': 'https://eepurl.com/ck2b-j'}\n"
     ]
    }
   ],
   "source": [
    "'''\n",
    "\n",
    "{'a': 1, 'b': 2, 'c': 3}\n",
    "'''\n",
    "\n",
    "for club in clubs:\n",
    "    for city in cities:\n",
    "        for url in urls:\n",
    "            keys = ['club', 'city', 'url']\n",
    "            values = [club, city, url]\n",
    "            dictionary = dict(zip(keys, values))\n",
    "print(dictionary)\n",
    "        "
   ]
  },
  {
   "cell_type": "code",
   "execution_count": null,
   "metadata": {},
   "outputs": [],
   "source": [
    "keys = ['a', 'b', 'c']\n",
    ">>> values = [1, 2, 3]\n",
    ">>> dictionary = dict(zip(keys, values))\n",
    ">>> print(dictionary)"
   ]
  },
  {
   "cell_type": "code",
   "execution_count": 68,
   "metadata": {},
   "outputs": [],
   "source": [
    "#States - EC\n",
    "\n",
    "# table = driver.find_elements_by_tag_name('tbody')\n",
    "# for row in table:\n",
    "#     links = (row.find_elements_by_tag_name('td'))\n",
    "#     for url in links:\n",
    "#         if url.get_attribute('bgcolor') == \"#B9EDB8\":\n",
    "#             print(url.text[0:-23])"
   ]
  },
  {
   "cell_type": "code",
   "execution_count": null,
   "metadata": {},
   "outputs": [],
   "source": []
  }
 ],
 "metadata": {
  "kernelspec": {
   "display_name": "Python 3",
   "language": "python",
   "name": "python3"
  },
  "language_info": {
   "codemirror_mode": {
    "name": "ipython",
    "version": 3
   },
   "file_extension": ".py",
   "mimetype": "text/x-python",
   "name": "python",
   "nbconvert_exporter": "python",
   "pygments_lexer": "ipython3",
   "version": "3.7.0"
  }
 },
 "nbformat": 4,
 "nbformat_minor": 2
}
